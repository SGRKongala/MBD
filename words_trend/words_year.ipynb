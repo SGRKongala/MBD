{
 "cells": [
  {
   "cell_type": "code",
   "execution_count": 3,
   "metadata": {
    "collapsed": true
   },
   "outputs": [],
   "source": [
    "import pandas as pd\n",
    "import numpy as np\n"
   ]
  },
  {
   "cell_type": "code",
   "execution_count": 25,
   "outputs": [
    {
     "data": {
      "text/plain": "    word  null    2010    2011    2012    2013    2014    2015   2016   2017  \\\n0    NaN   253  144084  137065  132363  119723  108377  100686  98176  90817   \n1    new     0   28739   28613   27600   26451   25005   25104  23600  22625   \n2  state     0   18505   19903   18857   17704   18057   18383  17695  17104   \n3    man     0   13712   14042   13892   13767   13332   15591  14937  14826   \n4   city     0   16775   15583   14902   14246   15357   14575  13110  12229   \n\n    2018   2019  2020    total  \n0  95096  76139    33  1102812  \n1  22823  20336     8   250904  \n2  16332  14220     5   176765  \n3  14883  13199     1   142182  \n4  10914   9443     4   137138  ",
      "text/html": "<div>\n<style scoped>\n    .dataframe tbody tr th:only-of-type {\n        vertical-align: middle;\n    }\n\n    .dataframe tbody tr th {\n        vertical-align: top;\n    }\n\n    .dataframe thead th {\n        text-align: right;\n    }\n</style>\n<table border=\"1\" class=\"dataframe\">\n  <thead>\n    <tr style=\"text-align: right;\">\n      <th></th>\n      <th>word</th>\n      <th>null</th>\n      <th>2010</th>\n      <th>2011</th>\n      <th>2012</th>\n      <th>2013</th>\n      <th>2014</th>\n      <th>2015</th>\n      <th>2016</th>\n      <th>2017</th>\n      <th>2018</th>\n      <th>2019</th>\n      <th>2020</th>\n      <th>total</th>\n    </tr>\n  </thead>\n  <tbody>\n    <tr>\n      <th>0</th>\n      <td>NaN</td>\n      <td>253</td>\n      <td>144084</td>\n      <td>137065</td>\n      <td>132363</td>\n      <td>119723</td>\n      <td>108377</td>\n      <td>100686</td>\n      <td>98176</td>\n      <td>90817</td>\n      <td>95096</td>\n      <td>76139</td>\n      <td>33</td>\n      <td>1102812</td>\n    </tr>\n    <tr>\n      <th>1</th>\n      <td>new</td>\n      <td>0</td>\n      <td>28739</td>\n      <td>28613</td>\n      <td>27600</td>\n      <td>26451</td>\n      <td>25005</td>\n      <td>25104</td>\n      <td>23600</td>\n      <td>22625</td>\n      <td>22823</td>\n      <td>20336</td>\n      <td>8</td>\n      <td>250904</td>\n    </tr>\n    <tr>\n      <th>2</th>\n      <td>state</td>\n      <td>0</td>\n      <td>18505</td>\n      <td>19903</td>\n      <td>18857</td>\n      <td>17704</td>\n      <td>18057</td>\n      <td>18383</td>\n      <td>17695</td>\n      <td>17104</td>\n      <td>16332</td>\n      <td>14220</td>\n      <td>5</td>\n      <td>176765</td>\n    </tr>\n    <tr>\n      <th>3</th>\n      <td>man</td>\n      <td>0</td>\n      <td>13712</td>\n      <td>14042</td>\n      <td>13892</td>\n      <td>13767</td>\n      <td>13332</td>\n      <td>15591</td>\n      <td>14937</td>\n      <td>14826</td>\n      <td>14883</td>\n      <td>13199</td>\n      <td>1</td>\n      <td>142182</td>\n    </tr>\n    <tr>\n      <th>4</th>\n      <td>city</td>\n      <td>0</td>\n      <td>16775</td>\n      <td>15583</td>\n      <td>14902</td>\n      <td>14246</td>\n      <td>15357</td>\n      <td>14575</td>\n      <td>13110</td>\n      <td>12229</td>\n      <td>10914</td>\n      <td>9443</td>\n      <td>4</td>\n      <td>137138</td>\n    </tr>\n  </tbody>\n</table>\n</div>"
     },
     "execution_count": 25,
     "metadata": {},
     "output_type": "execute_result"
    }
   ],
   "source": [
    "df = pd.read_csv(\"wordtime.csv\")\n",
    "df.head(5)"
   ],
   "metadata": {
    "collapsed": false
   }
  },
  {
   "cell_type": "code",
   "execution_count": 26,
   "outputs": [],
   "source": [
    "df['sr'] = df.iloc[:, 1:-2].values.tolist()"
   ],
   "metadata": {
    "collapsed": false
   }
  },
  {
   "cell_type": "code",
   "execution_count": 27,
   "outputs": [],
   "source": [
    "df['autocorr']=df['sr'].apply(lambda x: pd.Series(x).autocorr(lag=1))"
   ],
   "metadata": {
    "collapsed": false
   }
  },
  {
   "cell_type": "code",
   "execution_count": 28,
   "outputs": [],
   "source": [
    "df1=df.drop('sr', axis=1)"
   ],
   "metadata": {
    "collapsed": false
   }
  },
  {
   "cell_type": "code",
   "execution_count": 41,
   "outputs": [],
   "source": [
    "# df2=df1.drop(df1[(df1.autocorr > 0.5) & (df1.autocorr < -0.5)].index, axis=1)\n",
    "df2=df1.query(\"autocorr <= -0.8\")\n",
    "df3=df1.query(\"autocorr >= 0.9\")\n"
   ],
   "metadata": {
    "collapsed": false
   }
  },
  {
   "cell_type": "code",
   "execution_count": 42,
   "outputs": [
    {
     "data": {
      "text/plain": "                  word  null  2010  2011  2012  2013  2014  2015  2016  2017  \\\n356         candidates     0  2723  1490  2154  1285  2106  1447  1866   976   \n670          candidate     0  1633   937  1333   717  1206   925  1239   691   \n830             ballot     0  1129   738  1308   506  1193   692  1242   537   \n985            primary     0  1060   605  1212   374  1055   455  1153   391   \n1267             races     0   941   496   887   448   863   408   704   381   \n...                ...   ...   ...   ...   ...   ...   ...   ...   ...   ...   \n102730         pistola     0     0     1     0     1     0     1     0     1   \n103832       stainback     0     1     0     1     0     1     0     1     0   \n103971  accompaniments     0     1     0     1     0     0     1     0     1   \n104348           junco     0     0     1     0     1     0     1     0     1   \n105286      sightlines     0     1     0     1     0     1     0     0     1   \n\n        2018  2019  2020  total  autocorr  \n356     1943  1082     0  17072 -0.807498  \n670     1619   827     0  11127 -0.838889  \n830     1470   569     0   9384 -0.813336  \n985     1173   470     0   7948 -0.890392  \n1267     806   296     0   6230 -0.852011  \n...      ...   ...   ...    ...       ...  \n102730     0     1     0      5 -0.816497  \n103832     0     1     0      5 -0.816497  \n103971     0     1     0      5 -0.816497  \n104348     0     1     0      5 -0.816497  \n105286     0     1     0      5 -0.816497  \n\n[131 rows x 15 columns]",
      "text/html": "<div>\n<style scoped>\n    .dataframe tbody tr th:only-of-type {\n        vertical-align: middle;\n    }\n\n    .dataframe tbody tr th {\n        vertical-align: top;\n    }\n\n    .dataframe thead th {\n        text-align: right;\n    }\n</style>\n<table border=\"1\" class=\"dataframe\">\n  <thead>\n    <tr style=\"text-align: right;\">\n      <th></th>\n      <th>word</th>\n      <th>null</th>\n      <th>2010</th>\n      <th>2011</th>\n      <th>2012</th>\n      <th>2013</th>\n      <th>2014</th>\n      <th>2015</th>\n      <th>2016</th>\n      <th>2017</th>\n      <th>2018</th>\n      <th>2019</th>\n      <th>2020</th>\n      <th>total</th>\n      <th>autocorr</th>\n    </tr>\n  </thead>\n  <tbody>\n    <tr>\n      <th>356</th>\n      <td>candidates</td>\n      <td>0</td>\n      <td>2723</td>\n      <td>1490</td>\n      <td>2154</td>\n      <td>1285</td>\n      <td>2106</td>\n      <td>1447</td>\n      <td>1866</td>\n      <td>976</td>\n      <td>1943</td>\n      <td>1082</td>\n      <td>0</td>\n      <td>17072</td>\n      <td>-0.807498</td>\n    </tr>\n    <tr>\n      <th>670</th>\n      <td>candidate</td>\n      <td>0</td>\n      <td>1633</td>\n      <td>937</td>\n      <td>1333</td>\n      <td>717</td>\n      <td>1206</td>\n      <td>925</td>\n      <td>1239</td>\n      <td>691</td>\n      <td>1619</td>\n      <td>827</td>\n      <td>0</td>\n      <td>11127</td>\n      <td>-0.838889</td>\n    </tr>\n    <tr>\n      <th>830</th>\n      <td>ballot</td>\n      <td>0</td>\n      <td>1129</td>\n      <td>738</td>\n      <td>1308</td>\n      <td>506</td>\n      <td>1193</td>\n      <td>692</td>\n      <td>1242</td>\n      <td>537</td>\n      <td>1470</td>\n      <td>569</td>\n      <td>0</td>\n      <td>9384</td>\n      <td>-0.813336</td>\n    </tr>\n    <tr>\n      <th>985</th>\n      <td>primary</td>\n      <td>0</td>\n      <td>1060</td>\n      <td>605</td>\n      <td>1212</td>\n      <td>374</td>\n      <td>1055</td>\n      <td>455</td>\n      <td>1153</td>\n      <td>391</td>\n      <td>1173</td>\n      <td>470</td>\n      <td>0</td>\n      <td>7948</td>\n      <td>-0.890392</td>\n    </tr>\n    <tr>\n      <th>1267</th>\n      <td>races</td>\n      <td>0</td>\n      <td>941</td>\n      <td>496</td>\n      <td>887</td>\n      <td>448</td>\n      <td>863</td>\n      <td>408</td>\n      <td>704</td>\n      <td>381</td>\n      <td>806</td>\n      <td>296</td>\n      <td>0</td>\n      <td>6230</td>\n      <td>-0.852011</td>\n    </tr>\n    <tr>\n      <th>...</th>\n      <td>...</td>\n      <td>...</td>\n      <td>...</td>\n      <td>...</td>\n      <td>...</td>\n      <td>...</td>\n      <td>...</td>\n      <td>...</td>\n      <td>...</td>\n      <td>...</td>\n      <td>...</td>\n      <td>...</td>\n      <td>...</td>\n      <td>...</td>\n      <td>...</td>\n    </tr>\n    <tr>\n      <th>102730</th>\n      <td>pistola</td>\n      <td>0</td>\n      <td>0</td>\n      <td>1</td>\n      <td>0</td>\n      <td>1</td>\n      <td>0</td>\n      <td>1</td>\n      <td>0</td>\n      <td>1</td>\n      <td>0</td>\n      <td>1</td>\n      <td>0</td>\n      <td>5</td>\n      <td>-0.816497</td>\n    </tr>\n    <tr>\n      <th>103832</th>\n      <td>stainback</td>\n      <td>0</td>\n      <td>1</td>\n      <td>0</td>\n      <td>1</td>\n      <td>0</td>\n      <td>1</td>\n      <td>0</td>\n      <td>1</td>\n      <td>0</td>\n      <td>0</td>\n      <td>1</td>\n      <td>0</td>\n      <td>5</td>\n      <td>-0.816497</td>\n    </tr>\n    <tr>\n      <th>103971</th>\n      <td>accompaniments</td>\n      <td>0</td>\n      <td>1</td>\n      <td>0</td>\n      <td>1</td>\n      <td>0</td>\n      <td>0</td>\n      <td>1</td>\n      <td>0</td>\n      <td>1</td>\n      <td>0</td>\n      <td>1</td>\n      <td>0</td>\n      <td>5</td>\n      <td>-0.816497</td>\n    </tr>\n    <tr>\n      <th>104348</th>\n      <td>junco</td>\n      <td>0</td>\n      <td>0</td>\n      <td>1</td>\n      <td>0</td>\n      <td>1</td>\n      <td>0</td>\n      <td>1</td>\n      <td>0</td>\n      <td>1</td>\n      <td>0</td>\n      <td>1</td>\n      <td>0</td>\n      <td>5</td>\n      <td>-0.816497</td>\n    </tr>\n    <tr>\n      <th>105286</th>\n      <td>sightlines</td>\n      <td>0</td>\n      <td>1</td>\n      <td>0</td>\n      <td>1</td>\n      <td>0</td>\n      <td>1</td>\n      <td>0</td>\n      <td>0</td>\n      <td>1</td>\n      <td>0</td>\n      <td>1</td>\n      <td>0</td>\n      <td>5</td>\n      <td>-0.816497</td>\n    </tr>\n  </tbody>\n</table>\n<p>131 rows × 15 columns</p>\n</div>"
     },
     "execution_count": 42,
     "metadata": {},
     "output_type": "execute_result"
    }
   ],
   "source": [
    "df2"
   ],
   "metadata": {
    "collapsed": false
   }
  },
  {
   "cell_type": "code",
   "execution_count": 43,
   "outputs": [
    {
     "data": {
      "text/plain": "               word  null  2010  2011  2012  2013  2014  2015  2016  2017  \\\n308          tucson     0   514   767   676   772  1585  1915  3018  3200   \n534          austin     0   640   719   773  1344  1527  1550  1763  1648   \n1771             nm     0    53   172   106   245   610   627   701   648   \n1973             nc     0    72    92   106   173   423   326   440   657   \n2113        hornets     0    67    58    89    63   337   518   548   692   \n...             ...   ...   ...   ...   ...   ...   ...   ...   ...   ...   \n121247       shuger     0     0     0     0     0     0     0     0     0   \n121312   sprayregen     0     0     0     0     0     0     0     0     0   \n121345       mapfre     0     0     0     0     0     0     0     0     0   \n121705  petrosemolo     0     0     0     0     0     0     0     0     0   \n122164         fiza     0     0     0     0     0     0     0     0     0   \n\n        2018  2019  2020  total  autocorr  \n308     3338  3066     0  18851  0.942854  \n534     1702  1658     0  13324  0.922809  \n1771     678   665     0   4505  0.904625  \n1973     883   800     0   3972  0.912784  \n2113     763   572     0   3707  0.904260  \n...      ...   ...   ...    ...       ...  \n121247     1     3     0      4  0.945611  \n121312     1     3     0      4  0.945611  \n121345     1     3     0      4  0.945611  \n121705     1     3     0      4  0.945611  \n122164     1     3     0      4  0.945611  \n\n[453 rows x 15 columns]",
      "text/html": "<div>\n<style scoped>\n    .dataframe tbody tr th:only-of-type {\n        vertical-align: middle;\n    }\n\n    .dataframe tbody tr th {\n        vertical-align: top;\n    }\n\n    .dataframe thead th {\n        text-align: right;\n    }\n</style>\n<table border=\"1\" class=\"dataframe\">\n  <thead>\n    <tr style=\"text-align: right;\">\n      <th></th>\n      <th>word</th>\n      <th>null</th>\n      <th>2010</th>\n      <th>2011</th>\n      <th>2012</th>\n      <th>2013</th>\n      <th>2014</th>\n      <th>2015</th>\n      <th>2016</th>\n      <th>2017</th>\n      <th>2018</th>\n      <th>2019</th>\n      <th>2020</th>\n      <th>total</th>\n      <th>autocorr</th>\n    </tr>\n  </thead>\n  <tbody>\n    <tr>\n      <th>308</th>\n      <td>tucson</td>\n      <td>0</td>\n      <td>514</td>\n      <td>767</td>\n      <td>676</td>\n      <td>772</td>\n      <td>1585</td>\n      <td>1915</td>\n      <td>3018</td>\n      <td>3200</td>\n      <td>3338</td>\n      <td>3066</td>\n      <td>0</td>\n      <td>18851</td>\n      <td>0.942854</td>\n    </tr>\n    <tr>\n      <th>534</th>\n      <td>austin</td>\n      <td>0</td>\n      <td>640</td>\n      <td>719</td>\n      <td>773</td>\n      <td>1344</td>\n      <td>1527</td>\n      <td>1550</td>\n      <td>1763</td>\n      <td>1648</td>\n      <td>1702</td>\n      <td>1658</td>\n      <td>0</td>\n      <td>13324</td>\n      <td>0.922809</td>\n    </tr>\n    <tr>\n      <th>1771</th>\n      <td>nm</td>\n      <td>0</td>\n      <td>53</td>\n      <td>172</td>\n      <td>106</td>\n      <td>245</td>\n      <td>610</td>\n      <td>627</td>\n      <td>701</td>\n      <td>648</td>\n      <td>678</td>\n      <td>665</td>\n      <td>0</td>\n      <td>4505</td>\n      <td>0.904625</td>\n    </tr>\n    <tr>\n      <th>1973</th>\n      <td>nc</td>\n      <td>0</td>\n      <td>72</td>\n      <td>92</td>\n      <td>106</td>\n      <td>173</td>\n      <td>423</td>\n      <td>326</td>\n      <td>440</td>\n      <td>657</td>\n      <td>883</td>\n      <td>800</td>\n      <td>0</td>\n      <td>3972</td>\n      <td>0.912784</td>\n    </tr>\n    <tr>\n      <th>2113</th>\n      <td>hornets</td>\n      <td>0</td>\n      <td>67</td>\n      <td>58</td>\n      <td>89</td>\n      <td>63</td>\n      <td>337</td>\n      <td>518</td>\n      <td>548</td>\n      <td>692</td>\n      <td>763</td>\n      <td>572</td>\n      <td>0</td>\n      <td>3707</td>\n      <td>0.904260</td>\n    </tr>\n    <tr>\n      <th>...</th>\n      <td>...</td>\n      <td>...</td>\n      <td>...</td>\n      <td>...</td>\n      <td>...</td>\n      <td>...</td>\n      <td>...</td>\n      <td>...</td>\n      <td>...</td>\n      <td>...</td>\n      <td>...</td>\n      <td>...</td>\n      <td>...</td>\n      <td>...</td>\n      <td>...</td>\n    </tr>\n    <tr>\n      <th>121247</th>\n      <td>shuger</td>\n      <td>0</td>\n      <td>0</td>\n      <td>0</td>\n      <td>0</td>\n      <td>0</td>\n      <td>0</td>\n      <td>0</td>\n      <td>0</td>\n      <td>0</td>\n      <td>1</td>\n      <td>3</td>\n      <td>0</td>\n      <td>4</td>\n      <td>0.945611</td>\n    </tr>\n    <tr>\n      <th>121312</th>\n      <td>sprayregen</td>\n      <td>0</td>\n      <td>0</td>\n      <td>0</td>\n      <td>0</td>\n      <td>0</td>\n      <td>0</td>\n      <td>0</td>\n      <td>0</td>\n      <td>0</td>\n      <td>1</td>\n      <td>3</td>\n      <td>0</td>\n      <td>4</td>\n      <td>0.945611</td>\n    </tr>\n    <tr>\n      <th>121345</th>\n      <td>mapfre</td>\n      <td>0</td>\n      <td>0</td>\n      <td>0</td>\n      <td>0</td>\n      <td>0</td>\n      <td>0</td>\n      <td>0</td>\n      <td>0</td>\n      <td>0</td>\n      <td>1</td>\n      <td>3</td>\n      <td>0</td>\n      <td>4</td>\n      <td>0.945611</td>\n    </tr>\n    <tr>\n      <th>121705</th>\n      <td>petrosemolo</td>\n      <td>0</td>\n      <td>0</td>\n      <td>0</td>\n      <td>0</td>\n      <td>0</td>\n      <td>0</td>\n      <td>0</td>\n      <td>0</td>\n      <td>0</td>\n      <td>1</td>\n      <td>3</td>\n      <td>0</td>\n      <td>4</td>\n      <td>0.945611</td>\n    </tr>\n    <tr>\n      <th>122164</th>\n      <td>fiza</td>\n      <td>0</td>\n      <td>0</td>\n      <td>0</td>\n      <td>0</td>\n      <td>0</td>\n      <td>0</td>\n      <td>0</td>\n      <td>0</td>\n      <td>0</td>\n      <td>1</td>\n      <td>3</td>\n      <td>0</td>\n      <td>4</td>\n      <td>0.945611</td>\n    </tr>\n  </tbody>\n</table>\n<p>453 rows × 15 columns</p>\n</div>"
     },
     "execution_count": 43,
     "metadata": {},
     "output_type": "execute_result"
    }
   ],
   "source": [
    "df3"
   ],
   "metadata": {
    "collapsed": false
   }
  },
  {
   "cell_type": "code",
   "execution_count": null,
   "outputs": [],
   "source": [],
   "metadata": {
    "collapsed": false
   }
  }
 ],
 "metadata": {
  "kernelspec": {
   "display_name": "Python 3",
   "language": "python",
   "name": "python3"
  },
  "language_info": {
   "codemirror_mode": {
    "name": "ipython",
    "version": 2
   },
   "file_extension": ".py",
   "mimetype": "text/x-python",
   "name": "python",
   "nbconvert_exporter": "python",
   "pygments_lexer": "ipython2",
   "version": "2.7.6"
  }
 },
 "nbformat": 4,
 "nbformat_minor": 0
}
